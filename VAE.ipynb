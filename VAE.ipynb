{
 "cells": [
  {
   "cell_type": "code",
   "execution_count": 5,
   "metadata": {},
   "outputs": [
    {
     "name": "stdout",
     "output_type": "stream",
     "text": [
      "mps\n"
     ]
    }
   ],
   "source": [
    "import os\n",
    "import torch\n",
    "import torch.nn as nn\n",
    "import torch.optim as optim\n",
    "import torchaudio\n",
    "from torch.utils.data import Dataset, DataLoader\n",
    "from torchaudio.transforms import Resample\n",
    "\n",
    "device = 'mps' if torch.backends.mps.is_available() else 'cpu'\n",
    "print(device)\n",
    "\n",
    "## FÖR ATT ÅTERSKAPA: test_output = Resample(resample_rate,48000)(next(iter(dataset)))\n",
    "## FÖR ATT SPARA: torchaudio.save(\"./test_output.wav\",test_output.unsqueeze(0),48000)\n",
    "\n",
    "\n",
    "class MP3Dataset(Dataset):\n",
    "    def __init__(self, file_paths, resample_rate):\n",
    "        self.file_paths = file_paths\n",
    "        self.resample_rate = resample_rate\n",
    "    def __len__(self):\n",
    "        return len(self.file_paths)\n",
    "\n",
    "    def __getitem__(self, idx):\n",
    "        waveform, sample_rate = librosa.load(self.file_paths[idx],sr=48000)\n",
    "        waveform = torch.Tensor(waveform).unsqueeze(0)\n",
    "        waveform = Resample(sample_rate, self.resample_rate)(waveform)\n",
    "        waveform = waveform.to(device)\n",
    "        return waveform\n",
    "\n",
    "\n",
    "# Create a DataLoader for your dataset\n",
    "# You need to replace 'file_paths' with the actual paths to your MP3 files\n",
    "data_dir = \"./output_chunks/\"\n",
    "file_paths = [f for f in os.listdir(data_dir) if f.endswith(\".mp3\")]\n",
    "file_paths = [os.path.join(data_dir, x) for x in file_paths]\n",
    "\n",
    "resample_rate = 12000\n",
    "dataset = MP3Dataset(file_paths,resample_rate)\n",
    "\n",
    "dataloader = DataLoader(dataset, batch_size=64, shuffle=True)"
   ]
  },
  {
   "cell_type": "code",
   "execution_count": 15,
   "metadata": {},
   "outputs": [
    {
     "data": {
      "text/plain": [
       "==========================================================================================\n",
       "Layer (type:depth-idx)                   Output Shape              Param #\n",
       "==========================================================================================\n",
       "VAE                                      [64, 1, 180000]           --\n",
       "├─Sequential: 1-1                        [64, 8, 11250]            --\n",
       "│    └─Conv1d: 2-1                       [64, 8, 179998]           32\n",
       "│    └─BatchNorm1d: 2-2                  [64, 8, 179998]           16\n",
       "│    └─ReLU: 2-3                         [64, 8, 179998]           --\n",
       "│    └─Conv1d: 2-4                       [64, 8, 44999]            200\n",
       "│    └─BatchNorm1d: 2-5                  [64, 8, 44999]            16\n",
       "│    └─ReLU: 2-6                         [64, 8, 44999]            --\n",
       "│    └─Conv1d: 2-7                       [64, 8, 11250]            200\n",
       "│    └─BatchNorm1d: 2-8                  [64, 8, 11250]            16\n",
       "│    └─ReLU: 2-9                         [64, 8, 11250]            --\n",
       "├─Flatten: 1-2                           [64, 90000]               --\n",
       "├─Linear: 1-3                            [64, 1000]                90,001,000\n",
       "├─Linear: 1-4                            [64, 1000]                90,001,000\n",
       "├─Sequential: 1-5                        [64, 1, 180000]           --\n",
       "│    └─Linear: 2-10                      [64, 90000]               90,090,000\n",
       "│    └─Unflatten: 2-11                   [64, 8, 11250]            --\n",
       "│    └─ConvTranspose1d: 2-12             [64, 8, 44999]            200\n",
       "│    └─BatchNorm1d: 2-13                 [64, 8, 44999]            16\n",
       "│    └─ReLU: 2-14                        [64, 8, 44999]            --\n",
       "│    └─ConvTranspose1d: 2-15             [64, 8, 179998]           200\n",
       "│    └─ReLU: 2-16                        [64, 8, 179998]           --\n",
       "│    └─ConvTranspose1d: 2-17             [64, 1, 180000]           25\n",
       "│    └─ReLU: 2-18                        [64, 1, 180000]           --\n",
       "==========================================================================================\n",
       "Total params: 270,092,921\n",
       "Trainable params: 270,092,921\n",
       "Non-trainable params: 0\n",
       "Total mult-adds (Units.GIGABYTES): 21.54\n",
       "==========================================================================================\n",
       "Input size (MB): 46.08\n",
       "Forward/backward pass size (MB): 3180.50\n",
       "Params size (MB): 1080.37\n",
       "Estimated Total Size (MB): 4306.95\n",
       "=========================================================================================="
      ]
     },
     "execution_count": 15,
     "metadata": {},
     "output_type": "execute_result"
    }
   ],
   "source": [
    "import torch\n",
    "import librosa\n",
    "import torch.nn as nn\n",
    "import torch.nn.functional as F\n",
    "import torch.optim as optim\n",
    "from torchinfo import summary\n",
    "\n",
    "class VAE(nn.Module):\n",
    "    def __init__(self, input_size, hidden_size, latent_size):\n",
    "        super(VAE, self).__init__()\n",
    "\n",
    "        channels = 8\n",
    "        self.encoder = nn.Sequential(\n",
    "            nn.Conv1d(1, channels, kernel_size=3, stride=1, padding=0),\n",
    "            nn.BatchNorm1d(channels),\n",
    "            nn.ReLU(),\n",
    "            nn.Conv1d(channels, channels, kernel_size=3, stride=4, padding=0),\n",
    "            nn.BatchNorm1d(channels),\n",
    "            nn.ReLU(),\n",
    "            nn.Conv1d(channels, channels, kernel_size=3, stride=4, padding=1),\n",
    "            nn.BatchNorm1d(channels),\n",
    "            nn.ReLU(),\n",
    "        )\n",
    "\n",
    "        \n",
    "        self.flatten = nn.Flatten(1)\n",
    "        self.enc_mu = nn.Linear(11250*channels, 1000)\n",
    "        self.enc_logvar = nn.Linear(11250*channels, 1000)\n",
    "        \n",
    "\n",
    "        self.decoder = nn.Sequential(\n",
    "            nn.Linear(1000,11250*channels),\n",
    "            nn.Unflatten(1,(channels,11250)),\n",
    "            nn.ConvTranspose1d(channels, channels, kernel_size=3, stride=4),\n",
    "            nn.BatchNorm1d(channels),\n",
    "            nn.ReLU(),\n",
    "            nn.ConvTranspose1d(channels, channels, kernel_size=3, stride=4, padding=0,output_padding=3),\n",
    "            nn.ReLU(),\n",
    "            nn.ConvTranspose1d(channels, 1, kernel_size=3, stride=1, padding=0),\n",
    "            nn.ReLU()\n",
    "        )\n",
    "        # Decoder\n",
    "        #self.fc3 = nn.Linear(latent_size, hidden_size)\n",
    "        #self.fc4 = nn.Linear(hidden_size, input_size)\n",
    "\n",
    "    def encode(self, x):\n",
    "        encoder_output = self.encoder(x)\n",
    "        encoder_output = self.flatten(encoder_output)\n",
    "        return self.enc_mu(encoder_output), self.enc_logvar(encoder_output)\n",
    "\n",
    "\n",
    "    def reparameterize(self, mu, logvar):\n",
    "        std = torch.exp(0.5*logvar)\n",
    "        eps = torch.randn_like(std)\n",
    "        z = mu + eps*std\n",
    "        return z\n",
    "\n",
    "    def decode(self, z):\n",
    "        decoder_output = self.decoder(z)\n",
    "        return decoder_output\n",
    "\n",
    "    def forward(self, x):\n",
    "        mu, logvar = self.encode(x)\n",
    "        z = self.reparameterize(mu, logvar)\n",
    "        return self.decode(z), mu, logvar\n",
    "\n",
    "# Reconstruction + KL divergence losses summed over all elements and batch\n",
    "class loss_function(nn.Module):\n",
    "    def __init__(self):\n",
    "        super(loss_function,self).__init__()\n",
    "\n",
    "    def forward(self, recon_x, x, mu, logvar):\n",
    "        MSE = F.mse_loss(recon_x,x)\n",
    "        \n",
    "        # see Appendix B from VAE paper:\n",
    "        # Kingma and Welling. Auto-Encoding Variational Bayes. ICLR, 2014\n",
    "        # https://arxiv.org/abs/1312.6114\n",
    "        # 0.5 * sum(1 + log(sigma^2) - mu^2 - sigma^2)\n",
    "\n",
    "        #KLD = - 0.5 * torch.sum(1 + logvar - mu**2 - torch.exp(logvar))\n",
    "        #print(KLD.shape)\n",
    "\n",
    "        KLD = - 0.5 * torch.sum(1 + logvar - (torch.pow(mu, 2) + torch.exp(logvar)))\n",
    "        #print(KLD.shape)\n",
    "        return MSE + KLD\n",
    "\n",
    "# Initialize the VAE\n",
    "input_size = 180000 # MNIST images are 28x28 = 784\n",
    "hidden_size = 400\n",
    "latent_size = 20\n",
    "\n",
    "\n",
    "vae = VAE(input_size, hidden_size, latent_size)\n",
    "vae.to(device)\n",
    "\n",
    "# Define the optimizer\n",
    "optimizer = optim.Adam(vae.parameters(), lr=1e-5) # 1e-5 seems good\n",
    "VAEloss = loss_function()\n",
    "\n",
    "\n",
    "#input_size = resample_rate*15 # 15s per sample\n",
    "\n",
    "summary(vae,input_size=[64,1,input_size])"
   ]
  },
  {
   "cell_type": "code",
   "execution_count": 16,
   "metadata": {},
   "outputs": [
    {
     "name": "stdout",
     "output_type": "stream",
     "text": [
      "mps\n",
      "cpu\n",
      "mps:0\n",
      "loss:  tensor(6642.7026, device='mps:0', grad_fn=<AddBackward0>)\n",
      "loss:  tensor(5328.0234, device='mps:0', grad_fn=<AddBackward0>)\n",
      "loss:  tensor(5349.5464, device='mps:0', grad_fn=<AddBackward0>)\n",
      "loss:  tensor(5011.0840, device='mps:0', grad_fn=<AddBackward0>)\n",
      "loss:  tensor(4550.4814, device='mps:0', grad_fn=<AddBackward0>)\n",
      "loss:  tensor(4425.6494, device='mps:0', grad_fn=<AddBackward0>)\n",
      "loss:  tensor(4286.2031, device='mps:0', grad_fn=<AddBackward0>)\n",
      "loss:  tensor(4170.0752, device='mps:0', grad_fn=<AddBackward0>)\n",
      "loss:  tensor(3656.0632, device='mps:0', grad_fn=<AddBackward0>)\n",
      "loss:  tensor(3782.5752, device='mps:0', grad_fn=<AddBackward0>)\n",
      "loss:  tensor(3570.0342, device='mps:0', grad_fn=<AddBackward0>)\n",
      "loss:  tensor(3444.2532, device='mps:0', grad_fn=<AddBackward0>)\n",
      "loss:  tensor(3513.3032, device='mps:0', grad_fn=<AddBackward0>)\n",
      "loss:  tensor(3098.4033, device='mps:0', grad_fn=<AddBackward0>)\n",
      "loss:  tensor(3080.0901, device='mps:0', grad_fn=<AddBackward0>)\n",
      "loss:  tensor(2930.0396, device='mps:0', grad_fn=<AddBackward0>)\n",
      "loss:  tensor(2851.9182, device='mps:0', grad_fn=<AddBackward0>)\n",
      "loss:  tensor(2505.8523, device='mps:0', grad_fn=<AddBackward0>)\n",
      "loss:  tensor(2588.4065, device='mps:0', grad_fn=<AddBackward0>)\n",
      "loss:  tensor(2550.0398, device='mps:0', grad_fn=<AddBackward0>)\n",
      "loss:  tensor(2697.7996, device='mps:0', grad_fn=<AddBackward0>)\n",
      "loss:  tensor(3016.8755, device='mps:0', grad_fn=<AddBackward0>)\n",
      "loss:  tensor(2402.7703, device='mps:0', grad_fn=<AddBackward0>)\n",
      "loss:  tensor(2443.3411, device='mps:0', grad_fn=<AddBackward0>)\n",
      "loss:  "
     ]
    },
    {
     "ename": "KeyboardInterrupt",
     "evalue": "",
     "output_type": "error",
     "traceback": [
      "\u001b[0;31m---------------------------------------------------------------------------\u001b[0m",
      "\u001b[0;31mKeyboardInterrupt\u001b[0m                         Traceback (most recent call last)",
      "\u001b[1;32m/Users/albin/Skola/Master/SSY340 Deep Machine Learning/projekt/VAE.ipynb Cell 3\u001b[0m line \u001b[0;36m1\n\u001b[1;32m     <a href='vscode-notebook-cell:/Users/albin/Skola/Master/SSY340%20Deep%20Machine%20Learning/projekt/VAE.ipynb#W1sZmlsZQ%3D%3D?line=15'>16</a>\u001b[0m optimizer\u001b[39m.\u001b[39mstep()\n\u001b[1;32m     <a href='vscode-notebook-cell:/Users/albin/Skola/Master/SSY340%20Deep%20Machine%20Learning/projekt/VAE.ipynb#W1sZmlsZQ%3D%3D?line=16'>17</a>\u001b[0m optimizer\u001b[39m.\u001b[39mzero_grad()\n\u001b[0;32m---> <a href='vscode-notebook-cell:/Users/albin/Skola/Master/SSY340%20Deep%20Machine%20Learning/projekt/VAE.ipynb#W1sZmlsZQ%3D%3D?line=17'>18</a>\u001b[0m \u001b[39mprint\u001b[39m(\u001b[39m\"\u001b[39m\u001b[39mloss: \u001b[39m\u001b[39m\"\u001b[39m, loss)\n",
      "File \u001b[0;32m/opt/homebrew/Caskroom/miniconda/base/lib/python3.11/site-packages/torch/_tensor.py:426\u001b[0m, in \u001b[0;36mTensor.__repr__\u001b[0;34m(self, tensor_contents)\u001b[0m\n\u001b[1;32m    422\u001b[0m     \u001b[39mreturn\u001b[39;00m handle_torch_function(\n\u001b[1;32m    423\u001b[0m         Tensor\u001b[39m.\u001b[39m\u001b[39m__repr__\u001b[39m, (\u001b[39mself\u001b[39m,), \u001b[39mself\u001b[39m, tensor_contents\u001b[39m=\u001b[39mtensor_contents\n\u001b[1;32m    424\u001b[0m     )\n\u001b[1;32m    425\u001b[0m \u001b[39m# All strings are unicode in Python 3.\u001b[39;00m\n\u001b[0;32m--> 426\u001b[0m \u001b[39mreturn\u001b[39;00m torch\u001b[39m.\u001b[39;49m_tensor_str\u001b[39m.\u001b[39;49m_str(\u001b[39mself\u001b[39;49m, tensor_contents\u001b[39m=\u001b[39;49mtensor_contents)\n",
      "File \u001b[0;32m/opt/homebrew/Caskroom/miniconda/base/lib/python3.11/site-packages/torch/_tensor_str.py:636\u001b[0m, in \u001b[0;36m_str\u001b[0;34m(self, tensor_contents)\u001b[0m\n\u001b[1;32m    634\u001b[0m \u001b[39mwith\u001b[39;00m torch\u001b[39m.\u001b[39mno_grad(), torch\u001b[39m.\u001b[39mutils\u001b[39m.\u001b[39m_python_dispatch\u001b[39m.\u001b[39m_disable_current_modes():\n\u001b[1;32m    635\u001b[0m     guard \u001b[39m=\u001b[39m torch\u001b[39m.\u001b[39m_C\u001b[39m.\u001b[39m_DisableFuncTorch()\n\u001b[0;32m--> 636\u001b[0m     \u001b[39mreturn\u001b[39;00m _str_intern(\u001b[39mself\u001b[39;49m, tensor_contents\u001b[39m=\u001b[39;49mtensor_contents)\n",
      "File \u001b[0;32m/opt/homebrew/Caskroom/miniconda/base/lib/python3.11/site-packages/torch/_tensor_str.py:567\u001b[0m, in \u001b[0;36m_str_intern\u001b[0;34m(inp, tensor_contents)\u001b[0m\n\u001b[1;32m    565\u001b[0m                     tensor_str \u001b[39m=\u001b[39m _tensor_str(\u001b[39mself\u001b[39m\u001b[39m.\u001b[39mto_dense(), indent)\n\u001b[1;32m    566\u001b[0m                 \u001b[39melse\u001b[39;00m:\n\u001b[0;32m--> 567\u001b[0m                     tensor_str \u001b[39m=\u001b[39m _tensor_str(\u001b[39mself\u001b[39;49m, indent)\n\u001b[1;32m    569\u001b[0m \u001b[39mif\u001b[39;00m \u001b[39mself\u001b[39m\u001b[39m.\u001b[39mlayout \u001b[39m!=\u001b[39m torch\u001b[39m.\u001b[39mstrided:\n\u001b[1;32m    570\u001b[0m     suffixes\u001b[39m.\u001b[39mappend(\u001b[39m\"\u001b[39m\u001b[39mlayout=\u001b[39m\u001b[39m\"\u001b[39m \u001b[39m+\u001b[39m \u001b[39mstr\u001b[39m(\u001b[39mself\u001b[39m\u001b[39m.\u001b[39mlayout))\n",
      "File \u001b[0;32m/opt/homebrew/Caskroom/miniconda/base/lib/python3.11/site-packages/torch/_tensor_str.py:327\u001b[0m, in \u001b[0;36m_tensor_str\u001b[0;34m(self, indent)\u001b[0m\n\u001b[1;32m    323\u001b[0m     \u001b[39mreturn\u001b[39;00m _tensor_str_with_formatter(\n\u001b[1;32m    324\u001b[0m         \u001b[39mself\u001b[39m, indent, summarize, real_formatter, imag_formatter\n\u001b[1;32m    325\u001b[0m     )\n\u001b[1;32m    326\u001b[0m \u001b[39melse\u001b[39;00m:\n\u001b[0;32m--> 327\u001b[0m     formatter \u001b[39m=\u001b[39m _Formatter(get_summarized_data(\u001b[39mself\u001b[39;49m) \u001b[39mif\u001b[39;49;00m summarize \u001b[39melse\u001b[39;49;00m \u001b[39mself\u001b[39;49m)\n\u001b[1;32m    328\u001b[0m     \u001b[39mreturn\u001b[39;00m _tensor_str_with_formatter(\u001b[39mself\u001b[39m, indent, summarize, formatter)\n",
      "File \u001b[0;32m/opt/homebrew/Caskroom/miniconda/base/lib/python3.11/site-packages/torch/_tensor_str.py:115\u001b[0m, in \u001b[0;36m_Formatter.__init__\u001b[0;34m(self, tensor)\u001b[0m\n\u001b[1;32m    112\u001b[0m         \u001b[39mself\u001b[39m\u001b[39m.\u001b[39mmax_width \u001b[39m=\u001b[39m \u001b[39mmax\u001b[39m(\u001b[39mself\u001b[39m\u001b[39m.\u001b[39mmax_width, \u001b[39mlen\u001b[39m(value_str))\n\u001b[1;32m    114\u001b[0m \u001b[39melse\u001b[39;00m:\n\u001b[0;32m--> 115\u001b[0m     nonzero_finite_vals \u001b[39m=\u001b[39m torch\u001b[39m.\u001b[39;49mmasked_select(\n\u001b[1;32m    116\u001b[0m         tensor_view, torch\u001b[39m.\u001b[39;49misfinite(tensor_view) \u001b[39m&\u001b[39;49m tensor_view\u001b[39m.\u001b[39;49mne(\u001b[39m0\u001b[39;49m)\n\u001b[1;32m    117\u001b[0m     )\n\u001b[1;32m    119\u001b[0m     \u001b[39mif\u001b[39;00m nonzero_finite_vals\u001b[39m.\u001b[39mnumel() \u001b[39m==\u001b[39m \u001b[39m0\u001b[39m:\n\u001b[1;32m    120\u001b[0m         \u001b[39m# no valid number, do nothing\u001b[39;00m\n\u001b[1;32m    121\u001b[0m         \u001b[39mreturn\u001b[39;00m\n",
      "\u001b[0;31mKeyboardInterrupt\u001b[0m: "
     ]
    }
   ],
   "source": [
    "## Training Loop\n",
    "print(device)\n",
    "vae.train()\n",
    "\n",
    "print(next(vae.parameters()).device)\n",
    "vae.to(device)\n",
    "print(next(vae.parameters()).device)\n",
    "n_epochs = 1000\n",
    "for epoch in range(n_epochs):\n",
    "    batch = next(iter(dataloader))\n",
    "\n",
    "    decoded, mu, logvar = vae(batch)\n",
    "\n",
    "    loss = VAEloss(decoded,batch,mu,logvar)\n",
    "    loss.backward()\n",
    "    optimizer.step()\n",
    "    optimizer.zero_grad()\n",
    "    print(\"loss: \", loss)"
   ]
  },
  {
   "cell_type": "code",
   "execution_count": 20,
   "metadata": {},
   "outputs": [
    {
     "data": {
      "text/plain": [
       "VAE(\n",
       "  (encoder): Sequential(\n",
       "    (0): Conv1d(1, 4, kernel_size=(3,), stride=(1,))\n",
       "    (1): ReLU()\n",
       "    (2): Conv1d(4, 4, kernel_size=(3,), stride=(4,))\n",
       "    (3): ReLU()\n",
       "    (4): Conv1d(4, 4, kernel_size=(3,), stride=(4,), padding=(1,))\n",
       "    (5): ReLU()\n",
       "  )\n",
       "  (flatten): Flatten(start_dim=1, end_dim=-1)\n",
       "  (enc_mu): Linear(in_features=45000, out_features=1000, bias=True)\n",
       "  (enc_logvar): Linear(in_features=45000, out_features=1000, bias=True)\n",
       "  (decoder): Sequential(\n",
       "    (0): Linear(in_features=1000, out_features=45000, bias=True)\n",
       "    (1): Unflatten(dim=1, unflattened_size=(4, 11250))\n",
       "    (2): ConvTranspose1d(4, 4, kernel_size=(3,), stride=(4,))\n",
       "    (3): ReLU()\n",
       "    (4): ConvTranspose1d(4, 4, kernel_size=(3,), stride=(4,), output_padding=(3,))\n",
       "    (5): ReLU()\n",
       "    (6): ConvTranspose1d(4, 1, kernel_size=(3,), stride=(1,))\n",
       "    (7): ReLU()\n",
       "  )\n",
       ")"
      ]
     },
     "execution_count": 20,
     "metadata": {},
     "output_type": "execute_result"
    }
   ],
   "source": [
    "vae.eval()"
   ]
  },
  {
   "cell_type": "code",
   "execution_count": 21,
   "metadata": {},
   "outputs": [],
   "source": [
    "torch.save(vae.state_dict(), './models/model_002.pth')"
   ]
  },
  {
   "cell_type": "code",
   "execution_count": 17,
   "metadata": {},
   "outputs": [
    {
     "name": "stdout",
     "output_type": "stream",
     "text": [
      "torch.Size([1, 180000])\n"
     ]
    }
   ],
   "source": [
    "vae.eval()\n",
    "test_output = (next(iter(dataset)))\n",
    "print(test_output.shape)"
   ]
  },
  {
   "cell_type": "code",
   "execution_count": 18,
   "metadata": {},
   "outputs": [
    {
     "name": "stdout",
     "output_type": "stream",
     "text": [
      "torch.Size([1, 180000])\n"
     ]
    }
   ],
   "source": [
    "model = vae.eval().to('cpu')\n",
    "\n",
    "test_output = (next(iter(dataset)))\n",
    "test_output = test_output.unsqueeze(0).to('cpu')\n",
    "test_output = model(test_output)[0]\n",
    "test_output = test_output.squeeze(0)\n",
    "print(test_output.shape)\n",
    "test_output = Resample(resample_rate,48000)(test_output)\n",
    "torchaudio.save(\"./test_output.wav\",test_output,48000)\n"
   ]
  },
  {
   "cell_type": "code",
   "execution_count": null,
   "metadata": {},
   "outputs": [],
   "source": []
  },
  {
   "cell_type": "code",
   "execution_count": null,
   "metadata": {},
   "outputs": [],
   "source": []
  }
 ],
 "metadata": {
  "kernelspec": {
   "display_name": "base",
   "language": "python",
   "name": "python3"
  },
  "language_info": {
   "codemirror_mode": {
    "name": "ipython",
    "version": 3
   },
   "file_extension": ".py",
   "mimetype": "text/x-python",
   "name": "python",
   "nbconvert_exporter": "python",
   "pygments_lexer": "ipython3",
   "version": "3.11.4"
  }
 },
 "nbformat": 4,
 "nbformat_minor": 2
}
