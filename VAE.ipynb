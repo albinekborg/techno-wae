{
 "cells": [
  {
   "cell_type": "code",
   "execution_count": 87,
   "metadata": {},
   "outputs": [],
   "source": [
    "import os\n",
    "import torch\n",
    "import torch.nn as nn\n",
    "import torch.optim as optim\n",
    "import torchaudio\n",
    "from torch.utils.data import Dataset, DataLoader\n",
    "from torchaudio.transforms import Resample\n",
    "\n",
    "device = 'mps' if torch.backends.mps.is_available() else 'cpu'\n",
    "\n",
    "## FÖR ATT ÅTERSKAPA: test_output = Resample(resample_rate,48000)(next(iter(dataset)))\n",
    "## FÖR ATT SPARA: torchaudio.save(\"./test_output.wav\",test_output.unsqueeze(0),48000)\n",
    "\n",
    "\n",
    "class MP3Dataset(Dataset):\n",
    "    def __init__(self, file_paths, resample_rate):\n",
    "        self.file_paths = file_paths\n",
    "        self.resample_rate = resample_rate\n",
    "    def __len__(self):\n",
    "        return len(self.file_paths)\n",
    "\n",
    "    def __getitem__(self, idx):\n",
    "        waveform, sample_rate = librosa.load(self.file_paths[idx],sr=48000)\n",
    "        waveform = torch.Tensor(waveform)\n",
    "        waveform = Resample(sample_rate, self.resample_rate)(waveform)\n",
    "        waveform = waveform.to(device)\n",
    "        return waveform\n",
    "\n",
    "\n",
    "# Create a DataLoader for your dataset\n",
    "# You need to replace 'file_paths' with the actual paths to your MP3 files\n",
    "data_dir = \"./output_chunks/\"\n",
    "file_paths = [f for f in os.listdir(data_dir) if f.endswith(\".mp3\")]\n",
    "file_paths = [os.path.join(data_dir, x) for x in file_paths]\n",
    "\n",
    "resample_rate = 12000\n",
    "dataset = MP3Dataset(file_paths,resample_rate)\n",
    "\n",
    "dataloader = DataLoader(dataset, batch_size=32, shuffle=True)"
   ]
  },
  {
   "cell_type": "code",
   "execution_count": 103,
   "metadata": {},
   "outputs": [],
   "source": [
    "import torch\n",
    "import librosa\n",
    "import torch.nn as nn\n",
    "import torch.nn.functional as F\n",
    "import torch.optim as optim\n",
    "\n",
    "\n",
    "class VAE(nn.Module):\n",
    "    def __init__(self, input_size, hidden_size, latent_size):\n",
    "        super(VAE, self).__init__()\n",
    "\n",
    "        # Encoder\n",
    "        self.fc1 = nn.Linear(input_size, hidden_size)\n",
    "        self.fc21 = nn.Linear(hidden_size, latent_size)\n",
    "        self.fc22 = nn.Linear(hidden_size, latent_size)\n",
    "\n",
    "        # Decoder\n",
    "        self.fc3 = nn.Linear(latent_size, hidden_size)\n",
    "        self.fc4 = nn.Linear(hidden_size, input_size)\n",
    "\n",
    "    def encode(self, x):\n",
    "        h1 = F.relu(self.fc1(x))\n",
    "        return self.fc21(h1), self.fc22(h1)\n",
    "\n",
    "    def reparameterize(self, mu, logvar):\n",
    "        std = torch.exp(0.5*logvar)\n",
    "        eps = torch.randn_like(std)\n",
    "        z = mu + eps*std\n",
    "        return z\n",
    "\n",
    "    def decode(self, z):\n",
    "        h3 = F.relu(self.fc3(z))\n",
    "        return torch.sigmoid(self.fc4(h3))\n",
    "\n",
    "    def forward(self, x):\n",
    "        mu, logvar = self.encode(x)\n",
    "        z = self.reparameterize(mu, logvar)\n",
    "        return self.decode(z), mu, logvar\n",
    "\n",
    "# Reconstruction + KL divergence losses summed over all elements and batch\n",
    "class loss_function(nn.Module):\n",
    "    def __init__(self):\n",
    "        super(loss_function,self).__init__()\n",
    "\n",
    "    def forward(self, recon_x, x, mu, logvar):\n",
    "        MSE = F.mse_loss(recon_x,x)\n",
    "\n",
    "        # see Appendix B from VAE paper:\n",
    "        # Kingma and Welling. Auto-Encoding Variational Bayes. ICLR, 2014\n",
    "        # https://arxiv.org/abs/1312.6114\n",
    "        # 0.5 * sum(1 + log(sigma^2) - mu^2 - sigma^2)\n",
    "        KLD = 0.12 * torch.sum(1 + logvar - mu**2 - torch.exp(logvar))\n",
    "\n",
    "        return MSE - KLD\n",
    "\n",
    "# Initialize the VAE\n",
    "input_size = 180000 # MNIST images are 28x28 = 784\n",
    "hidden_size = 400\n",
    "latent_size = 20\n",
    "vae = VAE(input_size, hidden_size, latent_size)\n",
    "vae.to(device)\n",
    "\n",
    "# Define the optimizer\n",
    "optimizer = optim.Adam(vae.parameters(), lr=1e-5)\n",
    "VAEloss = loss_function()\n"
   ]
  },
  {
   "cell_type": "code",
   "execution_count": 107,
   "metadata": {},
   "outputs": [
    {
     "name": "stdout",
     "output_type": "stream",
     "text": [
      "loss:  tensor(0.3183, device='mps:0', grad_fn=<SubBackward0>)\n",
      "loss:  tensor(0.3455, device='mps:0', grad_fn=<SubBackward0>)\n",
      "loss:  tensor(0.4098, device='mps:0', grad_fn=<SubBackward0>)\n",
      "loss:  tensor(0.3315, device='mps:0', grad_fn=<SubBackward0>)\n",
      "loss:  tensor(0.5399, device='mps:0', grad_fn=<SubBackward0>)\n",
      "loss:  tensor(0.4813, device='mps:0', grad_fn=<SubBackward0>)\n",
      "loss:  tensor(0.3599, device='mps:0', grad_fn=<SubBackward0>)\n",
      "loss:  tensor(0.5283, device='mps:0', grad_fn=<SubBackward0>)\n",
      "loss:  tensor(0.3793, device='mps:0', grad_fn=<SubBackward0>)\n",
      "loss:  tensor(0.3316, device='mps:0', grad_fn=<SubBackward0>)\n",
      "loss:  tensor(0.3239, device='mps:0', grad_fn=<SubBackward0>)\n",
      "loss:  tensor(0.3260, device='mps:0', grad_fn=<SubBackward0>)\n",
      "loss:  tensor(0.3665, device='mps:0', grad_fn=<SubBackward0>)\n",
      "loss:  tensor(0.3762, device='mps:0', grad_fn=<SubBackward0>)\n",
      "loss:  tensor(0.3727, device='mps:0', grad_fn=<SubBackward0>)\n",
      "loss:  tensor(0.3531, device='mps:0', grad_fn=<SubBackward0>)\n",
      "loss:  tensor(0.3303, device='mps:0', grad_fn=<SubBackward0>)\n",
      "loss:  tensor(0.3535, device='mps:0', grad_fn=<SubBackward0>)\n",
      "loss:  tensor(0.2962, device='mps:0', grad_fn=<SubBackward0>)\n",
      "loss:  tensor(0.4670, device='mps:0', grad_fn=<SubBackward0>)\n",
      "loss:  tensor(0.4028, device='mps:0', grad_fn=<SubBackward0>)\n",
      "loss:  tensor(0.4161, device='mps:0', grad_fn=<SubBackward0>)\n"
     ]
    },
    {
     "ename": "KeyboardInterrupt",
     "evalue": "",
     "output_type": "error",
     "traceback": [
      "\u001b[0;31m---------------------------------------------------------------------------\u001b[0m",
      "\u001b[0;31mKeyboardInterrupt\u001b[0m                         Traceback (most recent call last)",
      "\u001b[1;32m/Users/albin/Skola/Master/SSY340 Deep Machine Learning/projekt/VAE.ipynb Cell 3\u001b[0m line \u001b[0;36m6\n\u001b[1;32m      <a href='vscode-notebook-cell:/Users/albin/Skola/Master/SSY340%20Deep%20Machine%20Learning/projekt/VAE.ipynb#W1sZmlsZQ%3D%3D?line=3'>4</a>\u001b[0m n_epochs \u001b[39m=\u001b[39m \u001b[39m100\u001b[39m\n\u001b[1;32m      <a href='vscode-notebook-cell:/Users/albin/Skola/Master/SSY340%20Deep%20Machine%20Learning/projekt/VAE.ipynb#W1sZmlsZQ%3D%3D?line=4'>5</a>\u001b[0m \u001b[39mfor\u001b[39;00m epoch \u001b[39min\u001b[39;00m \u001b[39mrange\u001b[39m(n_epochs):\n\u001b[0;32m----> <a href='vscode-notebook-cell:/Users/albin/Skola/Master/SSY340%20Deep%20Machine%20Learning/projekt/VAE.ipynb#W1sZmlsZQ%3D%3D?line=5'>6</a>\u001b[0m     batch \u001b[39m=\u001b[39m \u001b[39mnext\u001b[39m(\u001b[39miter\u001b[39m(dataloader))\n\u001b[1;32m      <a href='vscode-notebook-cell:/Users/albin/Skola/Master/SSY340%20Deep%20Machine%20Learning/projekt/VAE.ipynb#W1sZmlsZQ%3D%3D?line=6'>7</a>\u001b[0m     decoded, mu, logvar \u001b[39m=\u001b[39m vae(batch)\n\u001b[1;32m      <a href='vscode-notebook-cell:/Users/albin/Skola/Master/SSY340%20Deep%20Machine%20Learning/projekt/VAE.ipynb#W1sZmlsZQ%3D%3D?line=8'>9</a>\u001b[0m     loss \u001b[39m=\u001b[39m VAEloss(decoded,batch,mu,logvar)\n",
      "File \u001b[0;32m/opt/homebrew/Caskroom/miniconda/base/lib/python3.11/site-packages/torch/utils/data/dataloader.py:633\u001b[0m, in \u001b[0;36m_BaseDataLoaderIter.__next__\u001b[0;34m(self)\u001b[0m\n\u001b[1;32m    630\u001b[0m \u001b[39mif\u001b[39;00m \u001b[39mself\u001b[39m\u001b[39m.\u001b[39m_sampler_iter \u001b[39mis\u001b[39;00m \u001b[39mNone\u001b[39;00m:\n\u001b[1;32m    631\u001b[0m     \u001b[39m# TODO(https://github.com/pytorch/pytorch/issues/76750)\u001b[39;00m\n\u001b[1;32m    632\u001b[0m     \u001b[39mself\u001b[39m\u001b[39m.\u001b[39m_reset()  \u001b[39m# type: ignore[call-arg]\u001b[39;00m\n\u001b[0;32m--> 633\u001b[0m data \u001b[39m=\u001b[39m \u001b[39mself\u001b[39;49m\u001b[39m.\u001b[39;49m_next_data()\n\u001b[1;32m    634\u001b[0m \u001b[39mself\u001b[39m\u001b[39m.\u001b[39m_num_yielded \u001b[39m+\u001b[39m\u001b[39m=\u001b[39m \u001b[39m1\u001b[39m\n\u001b[1;32m    635\u001b[0m \u001b[39mif\u001b[39;00m \u001b[39mself\u001b[39m\u001b[39m.\u001b[39m_dataset_kind \u001b[39m==\u001b[39m _DatasetKind\u001b[39m.\u001b[39mIterable \u001b[39mand\u001b[39;00m \\\n\u001b[1;32m    636\u001b[0m         \u001b[39mself\u001b[39m\u001b[39m.\u001b[39m_IterableDataset_len_called \u001b[39mis\u001b[39;00m \u001b[39mnot\u001b[39;00m \u001b[39mNone\u001b[39;00m \u001b[39mand\u001b[39;00m \\\n\u001b[1;32m    637\u001b[0m         \u001b[39mself\u001b[39m\u001b[39m.\u001b[39m_num_yielded \u001b[39m>\u001b[39m \u001b[39mself\u001b[39m\u001b[39m.\u001b[39m_IterableDataset_len_called:\n",
      "File \u001b[0;32m/opt/homebrew/Caskroom/miniconda/base/lib/python3.11/site-packages/torch/utils/data/dataloader.py:677\u001b[0m, in \u001b[0;36m_SingleProcessDataLoaderIter._next_data\u001b[0;34m(self)\u001b[0m\n\u001b[1;32m    675\u001b[0m \u001b[39mdef\u001b[39;00m \u001b[39m_next_data\u001b[39m(\u001b[39mself\u001b[39m):\n\u001b[1;32m    676\u001b[0m     index \u001b[39m=\u001b[39m \u001b[39mself\u001b[39m\u001b[39m.\u001b[39m_next_index()  \u001b[39m# may raise StopIteration\u001b[39;00m\n\u001b[0;32m--> 677\u001b[0m     data \u001b[39m=\u001b[39m \u001b[39mself\u001b[39;49m\u001b[39m.\u001b[39;49m_dataset_fetcher\u001b[39m.\u001b[39;49mfetch(index)  \u001b[39m# may raise StopIteration\u001b[39;00m\n\u001b[1;32m    678\u001b[0m     \u001b[39mif\u001b[39;00m \u001b[39mself\u001b[39m\u001b[39m.\u001b[39m_pin_memory:\n\u001b[1;32m    679\u001b[0m         data \u001b[39m=\u001b[39m _utils\u001b[39m.\u001b[39mpin_memory\u001b[39m.\u001b[39mpin_memory(data, \u001b[39mself\u001b[39m\u001b[39m.\u001b[39m_pin_memory_device)\n",
      "File \u001b[0;32m/opt/homebrew/Caskroom/miniconda/base/lib/python3.11/site-packages/torch/utils/data/_utils/fetch.py:51\u001b[0m, in \u001b[0;36m_MapDatasetFetcher.fetch\u001b[0;34m(self, possibly_batched_index)\u001b[0m\n\u001b[1;32m     49\u001b[0m         data \u001b[39m=\u001b[39m \u001b[39mself\u001b[39m\u001b[39m.\u001b[39mdataset\u001b[39m.\u001b[39m__getitems__(possibly_batched_index)\n\u001b[1;32m     50\u001b[0m     \u001b[39melse\u001b[39;00m:\n\u001b[0;32m---> 51\u001b[0m         data \u001b[39m=\u001b[39m [\u001b[39mself\u001b[39;49m\u001b[39m.\u001b[39;49mdataset[idx] \u001b[39mfor\u001b[39;49;00m idx \u001b[39min\u001b[39;49;00m possibly_batched_index]\n\u001b[1;32m     52\u001b[0m \u001b[39melse\u001b[39;00m:\n\u001b[1;32m     53\u001b[0m     data \u001b[39m=\u001b[39m \u001b[39mself\u001b[39m\u001b[39m.\u001b[39mdataset[possibly_batched_index]\n",
      "File \u001b[0;32m/opt/homebrew/Caskroom/miniconda/base/lib/python3.11/site-packages/torch/utils/data/_utils/fetch.py:51\u001b[0m, in \u001b[0;36m<listcomp>\u001b[0;34m(.0)\u001b[0m\n\u001b[1;32m     49\u001b[0m         data \u001b[39m=\u001b[39m \u001b[39mself\u001b[39m\u001b[39m.\u001b[39mdataset\u001b[39m.\u001b[39m__getitems__(possibly_batched_index)\n\u001b[1;32m     50\u001b[0m     \u001b[39melse\u001b[39;00m:\n\u001b[0;32m---> 51\u001b[0m         data \u001b[39m=\u001b[39m [\u001b[39mself\u001b[39;49m\u001b[39m.\u001b[39;49mdataset[idx] \u001b[39mfor\u001b[39;00m idx \u001b[39min\u001b[39;00m possibly_batched_index]\n\u001b[1;32m     52\u001b[0m \u001b[39melse\u001b[39;00m:\n\u001b[1;32m     53\u001b[0m     data \u001b[39m=\u001b[39m \u001b[39mself\u001b[39m\u001b[39m.\u001b[39mdataset[possibly_batched_index]\n",
      "\u001b[1;32m/Users/albin/Skola/Master/SSY340 Deep Machine Learning/projekt/VAE.ipynb Cell 3\u001b[0m line \u001b[0;36m2\n\u001b[1;32m     <a href='vscode-notebook-cell:/Users/albin/Skola/Master/SSY340%20Deep%20Machine%20Learning/projekt/VAE.ipynb#W1sZmlsZQ%3D%3D?line=22'>23</a>\u001b[0m waveform, sample_rate \u001b[39m=\u001b[39m librosa\u001b[39m.\u001b[39mload(\u001b[39mself\u001b[39m\u001b[39m.\u001b[39mfile_paths[idx],sr\u001b[39m=\u001b[39m\u001b[39m48000\u001b[39m)\n\u001b[1;32m     <a href='vscode-notebook-cell:/Users/albin/Skola/Master/SSY340%20Deep%20Machine%20Learning/projekt/VAE.ipynb#W1sZmlsZQ%3D%3D?line=23'>24</a>\u001b[0m waveform \u001b[39m=\u001b[39m torch\u001b[39m.\u001b[39mTensor(waveform)\n\u001b[0;32m---> <a href='vscode-notebook-cell:/Users/albin/Skola/Master/SSY340%20Deep%20Machine%20Learning/projekt/VAE.ipynb#W1sZmlsZQ%3D%3D?line=24'>25</a>\u001b[0m waveform \u001b[39m=\u001b[39m Resample(sample_rate, \u001b[39mself\u001b[39;49m\u001b[39m.\u001b[39;49mresample_rate)(waveform)\n\u001b[1;32m     <a href='vscode-notebook-cell:/Users/albin/Skola/Master/SSY340%20Deep%20Machine%20Learning/projekt/VAE.ipynb#W1sZmlsZQ%3D%3D?line=25'>26</a>\u001b[0m waveform \u001b[39m=\u001b[39m waveform\u001b[39m.\u001b[39mto(device)\n\u001b[1;32m     <a href='vscode-notebook-cell:/Users/albin/Skola/Master/SSY340%20Deep%20Machine%20Learning/projekt/VAE.ipynb#W1sZmlsZQ%3D%3D?line=26'>27</a>\u001b[0m \u001b[39mreturn\u001b[39;00m waveform\n",
      "File \u001b[0;32m/opt/homebrew/Caskroom/miniconda/base/lib/python3.11/site-packages/torch/nn/modules/module.py:1501\u001b[0m, in \u001b[0;36mModule._call_impl\u001b[0;34m(self, *args, **kwargs)\u001b[0m\n\u001b[1;32m   1496\u001b[0m \u001b[39m# If we don't have any hooks, we want to skip the rest of the logic in\u001b[39;00m\n\u001b[1;32m   1497\u001b[0m \u001b[39m# this function, and just call forward.\u001b[39;00m\n\u001b[1;32m   1498\u001b[0m \u001b[39mif\u001b[39;00m \u001b[39mnot\u001b[39;00m (\u001b[39mself\u001b[39m\u001b[39m.\u001b[39m_backward_hooks \u001b[39mor\u001b[39;00m \u001b[39mself\u001b[39m\u001b[39m.\u001b[39m_backward_pre_hooks \u001b[39mor\u001b[39;00m \u001b[39mself\u001b[39m\u001b[39m.\u001b[39m_forward_hooks \u001b[39mor\u001b[39;00m \u001b[39mself\u001b[39m\u001b[39m.\u001b[39m_forward_pre_hooks\n\u001b[1;32m   1499\u001b[0m         \u001b[39mor\u001b[39;00m _global_backward_pre_hooks \u001b[39mor\u001b[39;00m _global_backward_hooks\n\u001b[1;32m   1500\u001b[0m         \u001b[39mor\u001b[39;00m _global_forward_hooks \u001b[39mor\u001b[39;00m _global_forward_pre_hooks):\n\u001b[0;32m-> 1501\u001b[0m     \u001b[39mreturn\u001b[39;00m forward_call(\u001b[39m*\u001b[39;49margs, \u001b[39m*\u001b[39;49m\u001b[39m*\u001b[39;49mkwargs)\n\u001b[1;32m   1502\u001b[0m \u001b[39m# Do not call functions when jit is used\u001b[39;00m\n\u001b[1;32m   1503\u001b[0m full_backward_hooks, non_full_backward_hooks \u001b[39m=\u001b[39m [], []\n",
      "File \u001b[0;32m/opt/homebrew/Caskroom/miniconda/base/lib/python3.11/site-packages/torchaudio/transforms/_transforms.py:1010\u001b[0m, in \u001b[0;36mResample.forward\u001b[0;34m(self, waveform)\u001b[0m\n\u001b[1;32m   1008\u001b[0m \u001b[39mif\u001b[39;00m \u001b[39mself\u001b[39m\u001b[39m.\u001b[39morig_freq \u001b[39m==\u001b[39m \u001b[39mself\u001b[39m\u001b[39m.\u001b[39mnew_freq:\n\u001b[1;32m   1009\u001b[0m     \u001b[39mreturn\u001b[39;00m waveform\n\u001b[0;32m-> 1010\u001b[0m \u001b[39mreturn\u001b[39;00m _apply_sinc_resample_kernel(waveform, \u001b[39mself\u001b[39;49m\u001b[39m.\u001b[39;49morig_freq, \u001b[39mself\u001b[39;49m\u001b[39m.\u001b[39;49mnew_freq, \u001b[39mself\u001b[39;49m\u001b[39m.\u001b[39;49mgcd, \u001b[39mself\u001b[39;49m\u001b[39m.\u001b[39;49mkernel, \u001b[39mself\u001b[39;49m\u001b[39m.\u001b[39;49mwidth)\n",
      "File \u001b[0;32m/opt/homebrew/Caskroom/miniconda/base/lib/python3.11/site-packages/torchaudio/functional/functional.py:1551\u001b[0m, in \u001b[0;36m_apply_sinc_resample_kernel\u001b[0;34m(waveform, orig_freq, new_freq, gcd, kernel, width)\u001b[0m\n\u001b[1;32m   1549\u001b[0m num_wavs, length \u001b[39m=\u001b[39m waveform\u001b[39m.\u001b[39mshape\n\u001b[1;32m   1550\u001b[0m waveform \u001b[39m=\u001b[39m torch\u001b[39m.\u001b[39mnn\u001b[39m.\u001b[39mfunctional\u001b[39m.\u001b[39mpad(waveform, (width, width \u001b[39m+\u001b[39m orig_freq))\n\u001b[0;32m-> 1551\u001b[0m resampled \u001b[39m=\u001b[39m torch\u001b[39m.\u001b[39;49mnn\u001b[39m.\u001b[39;49mfunctional\u001b[39m.\u001b[39;49mconv1d(waveform[:, \u001b[39mNone\u001b[39;49;00m], kernel, stride\u001b[39m=\u001b[39;49morig_freq)\n\u001b[1;32m   1552\u001b[0m resampled \u001b[39m=\u001b[39m resampled\u001b[39m.\u001b[39mtranspose(\u001b[39m1\u001b[39m, \u001b[39m2\u001b[39m)\u001b[39m.\u001b[39mreshape(num_wavs, \u001b[39m-\u001b[39m\u001b[39m1\u001b[39m)\n\u001b[1;32m   1553\u001b[0m target_length \u001b[39m=\u001b[39m \u001b[39mint\u001b[39m(math\u001b[39m.\u001b[39mceil(new_freq \u001b[39m*\u001b[39m length \u001b[39m/\u001b[39m orig_freq))\n",
      "\u001b[0;31mKeyboardInterrupt\u001b[0m: "
     ]
    }
   ],
   "source": [
    "## Training Loop\n",
    "\n",
    "vae.train()\n",
    "n_epochs = 100\n",
    "for epoch in range(n_epochs):\n",
    "    batch = next(iter(dataloader))\n",
    "    decoded, mu, logvar = vae(batch)\n",
    "\n",
    "    loss = VAEloss(decoded,batch,mu,logvar)\n",
    "    loss.backward()\n",
    "    optimizer.step()\n",
    "    optimizer.zero_grad()\n",
    "    print(\"loss: \", loss)"
   ]
  },
  {
   "cell_type": "code",
   "execution_count": 73,
   "metadata": {},
   "outputs": [
    {
     "data": {
      "text/plain": [
       "<enumerate at 0x294f86c00>"
      ]
     },
     "execution_count": 73,
     "metadata": {},
     "output_type": "execute_result"
    }
   ],
   "source": []
  },
  {
   "cell_type": "code",
   "execution_count": 111,
   "metadata": {},
   "outputs": [],
   "source": [
    "test_output = (next(iter(dataset)))\n",
    "test_output = vae(test_output)[0].to('cpu')\n",
    "test_output = Resample(resample_rate,48000)(test_output)\n",
    "torchaudio.save(\"./test_output.wav\",test_output.unsqueeze(0),48000)"
   ]
  },
  {
   "cell_type": "code",
   "execution_count": null,
   "metadata": {},
   "outputs": [],
   "source": []
  },
  {
   "cell_type": "code",
   "execution_count": null,
   "metadata": {},
   "outputs": [],
   "source": []
  }
 ],
 "metadata": {
  "kernelspec": {
   "display_name": "base",
   "language": "python",
   "name": "python3"
  },
  "language_info": {
   "codemirror_mode": {
    "name": "ipython",
    "version": 3
   },
   "file_extension": ".py",
   "mimetype": "text/x-python",
   "name": "python",
   "nbconvert_exporter": "python",
   "pygments_lexer": "ipython3",
   "version": "3.11.4"
  }
 },
 "nbformat": 4,
 "nbformat_minor": 2
}
