{
 "cells": [
  {
   "cell_type": "code",
   "execution_count": 1,
   "metadata": {},
   "outputs": [
    {
     "name": "stdout",
     "output_type": "stream",
     "text": [
      "mps\n"
     ]
    }
   ],
   "source": [
    "import os\n",
    "import torch\n",
    "import torch.nn as nn\n",
    "import torch.optim as optim\n",
    "import torchaudio\n",
    "from torch.utils.data import Dataset, DataLoader\n",
    "from torchaudio.transforms import Resample\n",
    "\n",
    "device = 'mps' if torch.backends.mps.is_available() else 'cpu'\n",
    "print(device)\n",
    "\n",
    "## FÖR ATT ÅTERSKAPA: test_output = Resample(resample_rate,48000)(next(iter(dataset)))\n",
    "## FÖR ATT SPARA: torchaudio.save(\"./test_output.wav\",test_output.unsqueeze(0),48000)\n",
    "\n",
    "\n",
    "class MP3Dataset(Dataset):\n",
    "    def __init__(self, file_paths, resample_rate):\n",
    "        self.file_paths = file_paths\n",
    "        self.resample_rate = resample_rate\n",
    "    def __len__(self):\n",
    "        return len(self.file_paths)\n",
    "\n",
    "    def __getitem__(self, idx):\n",
    "        waveform, sample_rate = librosa.load(self.file_paths[idx],sr=48000)\n",
    "        waveform = torch.Tensor(waveform).unsqueeze(0)\n",
    "        waveform = Resample(sample_rate, self.resample_rate)(waveform)\n",
    "        waveform = waveform.to(device)\n",
    "        return waveform\n",
    "\n",
    "\n",
    "# Create a DataLoader for your dataset\n",
    "# You need to replace 'file_paths' with the actual paths to your MP3 files\n",
    "data_dir = \"./output_chunks/\"\n",
    "file_paths = [f for f in os.listdir(data_dir) if f.endswith(\".mp3\")]\n",
    "file_paths = [os.path.join(data_dir, x) for x in file_paths]\n",
    "\n",
    "resample_rate = 12000\n",
    "dataset = MP3Dataset(file_paths,resample_rate)\n",
    "\n",
    "dataloader = DataLoader(dataset, batch_size=32, shuffle=True)"
   ]
  },
  {
   "cell_type": "code",
   "execution_count": 16,
   "metadata": {},
   "outputs": [
    {
     "name": "stdout",
     "output_type": "stream",
     "text": [
      "torch.Size([64, 45000])\n"
     ]
    },
    {
     "data": {
      "text/plain": [
       "==========================================================================================\n",
       "Layer (type:depth-idx)                   Output Shape              Param #\n",
       "==========================================================================================\n",
       "VAE                                      [64, 1, 180000]           --\n",
       "├─Sequential: 1-1                        [64, 4, 11250]            --\n",
       "│    └─Conv1d: 2-1                       [64, 4, 179998]           16\n",
       "│    └─ReLU: 2-2                         [64, 4, 179998]           --\n",
       "│    └─Conv1d: 2-3                       [64, 4, 44999]            52\n",
       "│    └─ReLU: 2-4                         [64, 4, 44999]            --\n",
       "│    └─Conv1d: 2-5                       [64, 4, 11250]            52\n",
       "│    └─ReLU: 2-6                         [64, 4, 11250]            --\n",
       "├─Flatten: 1-2                           [64, 45000]               --\n",
       "├─Linear: 1-3                            [64, 1000]                45,001,000\n",
       "├─Linear: 1-4                            [64, 1000]                45,001,000\n",
       "├─Sequential: 1-5                        [64, 1, 180000]           --\n",
       "│    └─Linear: 2-7                       [64, 45000]               45,045,000\n",
       "│    └─Unflatten: 2-8                    [64, 4, 11250]            --\n",
       "│    └─ConvTranspose1d: 2-9              [64, 4, 44999]            52\n",
       "│    └─ReLU: 2-10                        [64, 4, 44999]            --\n",
       "│    └─ConvTranspose1d: 2-11             [64, 4, 179998]           52\n",
       "│    └─ReLU: 2-12                        [64, 4, 179998]           --\n",
       "│    └─ConvTranspose1d: 2-13             [64, 1, 180000]           13\n",
       "│    └─ReLU: 2-14                        [64, 1, 180000]           --\n",
       "==========================================================================================\n",
       "Total params: 135,047,237\n",
       "Trainable params: 135,047,237\n",
       "Non-trainable params: 0\n",
       "Total mult-adds (Units.GIGABYTES): 9.91\n",
       "==========================================================================================\n",
       "Input size (MB): 46.08\n",
       "Forward/backward pass size (MB): 1060.85\n",
       "Params size (MB): 540.19\n",
       "Estimated Total Size (MB): 1647.12\n",
       "=========================================================================================="
      ]
     },
     "execution_count": 16,
     "metadata": {},
     "output_type": "execute_result"
    }
   ],
   "source": [
    "import torch\n",
    "import librosa\n",
    "import torch.nn as nn\n",
    "import torch.nn.functional as F\n",
    "import torch.optim as optim\n",
    "from torchinfo import summary\n",
    "\n",
    "class VAE(nn.Module):\n",
    "    def __init__(self, input_size, hidden_size, latent_size):\n",
    "        super(VAE, self).__init__()\n",
    "\n",
    "        channels = 4\n",
    "        self.encoder = nn.Sequential(\n",
    "            nn.Conv1d(1, channels, kernel_size=3, stride=1, padding=0),\n",
    "            nn.ReLU(),\n",
    "            nn.Conv1d(channels, channels, kernel_size=3, stride=4, padding=0),\n",
    "            nn.ReLU(),\n",
    "            nn.Conv1d(channels, channels, kernel_size=3, stride=4, padding=1),\n",
    "            nn.ReLU(),\n",
    "        )\n",
    "\n",
    "        \n",
    "        self.flatten = nn.Flatten(1)\n",
    "        self.enc_mu = nn.Linear(11250*channels, 1000)\n",
    "        self.enc_logvar = nn.Linear(11250*channels, 1000)\n",
    "        \n",
    "\n",
    "\n",
    "        self.decoder = nn.Sequential(\n",
    "            nn.Linear(1000,11250*channels),\n",
    "            nn.Unflatten(1,(channels,11250)),\n",
    "            nn.ConvTranspose1d(channels, channels, kernel_size=3, stride=4),\n",
    "            nn.ReLU(),\n",
    "            nn.ConvTranspose1d(channels, channels, kernel_size=3, stride=4, padding=0,output_padding=3),\n",
    "            nn.ReLU(),\n",
    "            nn.ConvTranspose1d(channels, 1, kernel_size=3, stride=1, padding=0),\n",
    "            nn.ReLU()\n",
    "        )\n",
    "        # Decoder\n",
    "        #self.fc3 = nn.Linear(latent_size, hidden_size)\n",
    "        #self.fc4 = nn.Linear(hidden_size, input_size)\n",
    "\n",
    "    def encode(self, x):\n",
    "        encoder_output = self.encoder(x)\n",
    "        encoder_output = self.flatten(encoder_output)\n",
    "        print(encoder_output.shape)\n",
    "        return self.enc_mu(encoder_output), self.enc_logvar(encoder_output)\n",
    "\n",
    "    def reparameterize(self, mu, logvar):\n",
    "        std = torch.exp(0.5*logvar)\n",
    "        eps = torch.randn_like(std)\n",
    "        z = mu + eps*std\n",
    "        return z\n",
    "\n",
    "    def decode(self, z):\n",
    "        decoder_output = self.decoder(z)\n",
    "        return decoder_output\n",
    "\n",
    "    def forward(self, x):\n",
    "        mu, logvar = self.encode(x)\n",
    "        z = self.reparameterize(mu, logvar)\n",
    "        return self.decode(z), mu, logvar\n",
    "\n",
    "# Reconstruction + KL divergence losses summed over all elements and batch\n",
    "class loss_function(nn.Module):\n",
    "    def __init__(self):\n",
    "        super(loss_function,self).__init__()\n",
    "\n",
    "    def forward(self, recon_x, x, mu, logvar):\n",
    "        MSE = F.mse_loss(recon_x,x)\n",
    "\n",
    "        # see Appendix B from VAE paper:\n",
    "        # Kingma and Welling. Auto-Encoding Variational Bayes. ICLR, 2014\n",
    "        # https://arxiv.org/abs/1312.6114\n",
    "        # 0.5 * sum(1 + log(sigma^2) - mu^2 - sigma^2)\n",
    "        KLD = - 0.5 * torch.sum(1 + logvar - mu**2 - torch.exp(logvar))\n",
    "\n",
    "        return MSE + KLD\n",
    "\n",
    "# Initialize the VAE\n",
    "input_size = 180000 # MNIST images are 28x28 = 784\n",
    "hidden_size = 400\n",
    "latent_size = 20\n",
    "\n",
    "\n",
    "vae = VAE(input_size, hidden_size, latent_size)\n",
    "vae.to(device)\n",
    "\n",
    "# Define the optimizer\n",
    "optimizer = optim.Adam(vae.parameters(), lr=1e-5)\n",
    "VAEloss = loss_function()\n",
    "\n",
    "\n",
    "#input_size = resample_rate*15 # 15s per sample\n",
    "\n",
    "summary(vae,input_size=[64,1,input_size])"
   ]
  },
  {
   "cell_type": "code",
   "execution_count": 17,
   "metadata": {},
   "outputs": [
    {
     "name": "stdout",
     "output_type": "stream",
     "text": [
      "mps\n",
      "cpu\n",
      "mps:0\n",
      "torch.Size([32, 45000])\n",
      "loss:  tensor(-28.1454, device='mps:0', grad_fn=<AddBackward0>)\n",
      "torch.Size([32, 45000])\n",
      "loss:  tensor(-76.6866, device='mps:0', grad_fn=<AddBackward0>)\n",
      "torch.Size([32, 45000])\n",
      "loss:  tensor(-151.2886, device='mps:0', grad_fn=<AddBackward0>)\n",
      "torch.Size([32, 45000])\n",
      "loss:  tensor(-253.6148, device='mps:0', grad_fn=<AddBackward0>)\n",
      "torch.Size([32, 45000])\n",
      "loss:  tensor(-384.5966, device='mps:0', grad_fn=<AddBackward0>)\n",
      "torch.Size([32, 45000])\n",
      "loss:  tensor(-545.3804, device='mps:0', grad_fn=<AddBackward0>)\n",
      "torch.Size([32, 45000])\n",
      "loss:  tensor(-737.0469, device='mps:0', grad_fn=<AddBackward0>)\n",
      "torch.Size([32, 45000])\n",
      "loss:  tensor(-960.8452, device='mps:0', grad_fn=<AddBackward0>)\n"
     ]
    },
    {
     "ename": "KeyboardInterrupt",
     "evalue": "",
     "output_type": "error",
     "traceback": [
      "\u001b[0;31m---------------------------------------------------------------------------\u001b[0m",
      "\u001b[0;31mKeyboardInterrupt\u001b[0m                         Traceback (most recent call last)",
      "\u001b[1;32m/Users/albin/Skola/Master/SSY340 Deep Machine Learning/projekt/VAE.ipynb Cell 3\u001b[0m line \u001b[0;36m1\n\u001b[1;32m      <a href='vscode-notebook-cell:/Users/albin/Skola/Master/SSY340%20Deep%20Machine%20Learning/projekt/VAE.ipynb#W1sZmlsZQ%3D%3D?line=7'>8</a>\u001b[0m n_epochs \u001b[39m=\u001b[39m \u001b[39m1000\u001b[39m\n\u001b[1;32m      <a href='vscode-notebook-cell:/Users/albin/Skola/Master/SSY340%20Deep%20Machine%20Learning/projekt/VAE.ipynb#W1sZmlsZQ%3D%3D?line=8'>9</a>\u001b[0m \u001b[39mfor\u001b[39;00m epoch \u001b[39min\u001b[39;00m \u001b[39mrange\u001b[39m(n_epochs):\n\u001b[0;32m---> <a href='vscode-notebook-cell:/Users/albin/Skola/Master/SSY340%20Deep%20Machine%20Learning/projekt/VAE.ipynb#W1sZmlsZQ%3D%3D?line=9'>10</a>\u001b[0m     batch \u001b[39m=\u001b[39m \u001b[39mnext\u001b[39m(\u001b[39miter\u001b[39m(dataloader))\n\u001b[1;32m     <a href='vscode-notebook-cell:/Users/albin/Skola/Master/SSY340%20Deep%20Machine%20Learning/projekt/VAE.ipynb#W1sZmlsZQ%3D%3D?line=11'>12</a>\u001b[0m     decoded, mu, logvar \u001b[39m=\u001b[39m vae(batch)\n\u001b[1;32m     <a href='vscode-notebook-cell:/Users/albin/Skola/Master/SSY340%20Deep%20Machine%20Learning/projekt/VAE.ipynb#W1sZmlsZQ%3D%3D?line=13'>14</a>\u001b[0m     loss \u001b[39m=\u001b[39m VAEloss(decoded,batch,mu,logvar)\n",
      "File \u001b[0;32m/opt/homebrew/Caskroom/miniconda/base/lib/python3.11/site-packages/torch/utils/data/dataloader.py:633\u001b[0m, in \u001b[0;36m_BaseDataLoaderIter.__next__\u001b[0;34m(self)\u001b[0m\n\u001b[1;32m    630\u001b[0m \u001b[39mif\u001b[39;00m \u001b[39mself\u001b[39m\u001b[39m.\u001b[39m_sampler_iter \u001b[39mis\u001b[39;00m \u001b[39mNone\u001b[39;00m:\n\u001b[1;32m    631\u001b[0m     \u001b[39m# TODO(https://github.com/pytorch/pytorch/issues/76750)\u001b[39;00m\n\u001b[1;32m    632\u001b[0m     \u001b[39mself\u001b[39m\u001b[39m.\u001b[39m_reset()  \u001b[39m# type: ignore[call-arg]\u001b[39;00m\n\u001b[0;32m--> 633\u001b[0m data \u001b[39m=\u001b[39m \u001b[39mself\u001b[39;49m\u001b[39m.\u001b[39;49m_next_data()\n\u001b[1;32m    634\u001b[0m \u001b[39mself\u001b[39m\u001b[39m.\u001b[39m_num_yielded \u001b[39m+\u001b[39m\u001b[39m=\u001b[39m \u001b[39m1\u001b[39m\n\u001b[1;32m    635\u001b[0m \u001b[39mif\u001b[39;00m \u001b[39mself\u001b[39m\u001b[39m.\u001b[39m_dataset_kind \u001b[39m==\u001b[39m _DatasetKind\u001b[39m.\u001b[39mIterable \u001b[39mand\u001b[39;00m \\\n\u001b[1;32m    636\u001b[0m         \u001b[39mself\u001b[39m\u001b[39m.\u001b[39m_IterableDataset_len_called \u001b[39mis\u001b[39;00m \u001b[39mnot\u001b[39;00m \u001b[39mNone\u001b[39;00m \u001b[39mand\u001b[39;00m \\\n\u001b[1;32m    637\u001b[0m         \u001b[39mself\u001b[39m\u001b[39m.\u001b[39m_num_yielded \u001b[39m>\u001b[39m \u001b[39mself\u001b[39m\u001b[39m.\u001b[39m_IterableDataset_len_called:\n",
      "File \u001b[0;32m/opt/homebrew/Caskroom/miniconda/base/lib/python3.11/site-packages/torch/utils/data/dataloader.py:677\u001b[0m, in \u001b[0;36m_SingleProcessDataLoaderIter._next_data\u001b[0;34m(self)\u001b[0m\n\u001b[1;32m    675\u001b[0m \u001b[39mdef\u001b[39;00m \u001b[39m_next_data\u001b[39m(\u001b[39mself\u001b[39m):\n\u001b[1;32m    676\u001b[0m     index \u001b[39m=\u001b[39m \u001b[39mself\u001b[39m\u001b[39m.\u001b[39m_next_index()  \u001b[39m# may raise StopIteration\u001b[39;00m\n\u001b[0;32m--> 677\u001b[0m     data \u001b[39m=\u001b[39m \u001b[39mself\u001b[39;49m\u001b[39m.\u001b[39;49m_dataset_fetcher\u001b[39m.\u001b[39;49mfetch(index)  \u001b[39m# may raise StopIteration\u001b[39;00m\n\u001b[1;32m    678\u001b[0m     \u001b[39mif\u001b[39;00m \u001b[39mself\u001b[39m\u001b[39m.\u001b[39m_pin_memory:\n\u001b[1;32m    679\u001b[0m         data \u001b[39m=\u001b[39m _utils\u001b[39m.\u001b[39mpin_memory\u001b[39m.\u001b[39mpin_memory(data, \u001b[39mself\u001b[39m\u001b[39m.\u001b[39m_pin_memory_device)\n",
      "File \u001b[0;32m/opt/homebrew/Caskroom/miniconda/base/lib/python3.11/site-packages/torch/utils/data/_utils/fetch.py:51\u001b[0m, in \u001b[0;36m_MapDatasetFetcher.fetch\u001b[0;34m(self, possibly_batched_index)\u001b[0m\n\u001b[1;32m     49\u001b[0m         data \u001b[39m=\u001b[39m \u001b[39mself\u001b[39m\u001b[39m.\u001b[39mdataset\u001b[39m.\u001b[39m__getitems__(possibly_batched_index)\n\u001b[1;32m     50\u001b[0m     \u001b[39melse\u001b[39;00m:\n\u001b[0;32m---> 51\u001b[0m         data \u001b[39m=\u001b[39m [\u001b[39mself\u001b[39;49m\u001b[39m.\u001b[39;49mdataset[idx] \u001b[39mfor\u001b[39;49;00m idx \u001b[39min\u001b[39;49;00m possibly_batched_index]\n\u001b[1;32m     52\u001b[0m \u001b[39melse\u001b[39;00m:\n\u001b[1;32m     53\u001b[0m     data \u001b[39m=\u001b[39m \u001b[39mself\u001b[39m\u001b[39m.\u001b[39mdataset[possibly_batched_index]\n",
      "File \u001b[0;32m/opt/homebrew/Caskroom/miniconda/base/lib/python3.11/site-packages/torch/utils/data/_utils/fetch.py:51\u001b[0m, in \u001b[0;36m<listcomp>\u001b[0;34m(.0)\u001b[0m\n\u001b[1;32m     49\u001b[0m         data \u001b[39m=\u001b[39m \u001b[39mself\u001b[39m\u001b[39m.\u001b[39mdataset\u001b[39m.\u001b[39m__getitems__(possibly_batched_index)\n\u001b[1;32m     50\u001b[0m     \u001b[39melse\u001b[39;00m:\n\u001b[0;32m---> 51\u001b[0m         data \u001b[39m=\u001b[39m [\u001b[39mself\u001b[39;49m\u001b[39m.\u001b[39;49mdataset[idx] \u001b[39mfor\u001b[39;00m idx \u001b[39min\u001b[39;00m possibly_batched_index]\n\u001b[1;32m     52\u001b[0m \u001b[39melse\u001b[39;00m:\n\u001b[1;32m     53\u001b[0m     data \u001b[39m=\u001b[39m \u001b[39mself\u001b[39m\u001b[39m.\u001b[39mdataset[possibly_batched_index]\n",
      "\u001b[1;32m/Users/albin/Skola/Master/SSY340 Deep Machine Learning/projekt/VAE.ipynb Cell 3\u001b[0m line \u001b[0;36m2\n\u001b[1;32m     <a href='vscode-notebook-cell:/Users/albin/Skola/Master/SSY340%20Deep%20Machine%20Learning/projekt/VAE.ipynb#W1sZmlsZQ%3D%3D?line=24'>25</a>\u001b[0m waveform \u001b[39m=\u001b[39m torch\u001b[39m.\u001b[39mTensor(waveform)\u001b[39m.\u001b[39munsqueeze(\u001b[39m0\u001b[39m)\n\u001b[1;32m     <a href='vscode-notebook-cell:/Users/albin/Skola/Master/SSY340%20Deep%20Machine%20Learning/projekt/VAE.ipynb#W1sZmlsZQ%3D%3D?line=25'>26</a>\u001b[0m waveform \u001b[39m=\u001b[39m Resample(sample_rate, \u001b[39mself\u001b[39m\u001b[39m.\u001b[39mresample_rate)(waveform)\n\u001b[0;32m---> <a href='vscode-notebook-cell:/Users/albin/Skola/Master/SSY340%20Deep%20Machine%20Learning/projekt/VAE.ipynb#W1sZmlsZQ%3D%3D?line=26'>27</a>\u001b[0m waveform \u001b[39m=\u001b[39m waveform\u001b[39m.\u001b[39;49mto(device)\n\u001b[1;32m     <a href='vscode-notebook-cell:/Users/albin/Skola/Master/SSY340%20Deep%20Machine%20Learning/projekt/VAE.ipynb#W1sZmlsZQ%3D%3D?line=27'>28</a>\u001b[0m \u001b[39mreturn\u001b[39;00m waveform\n",
      "\u001b[0;31mKeyboardInterrupt\u001b[0m: "
     ]
    }
   ],
   "source": [
    "## Training Loop\n",
    "print(device)\n",
    "vae.train()\n",
    "\n",
    "print(next(vae.parameters()).device)\n",
    "vae.to(device)\n",
    "print(next(vae.parameters()).device)\n",
    "n_epochs = 1000\n",
    "for epoch in range(n_epochs):\n",
    "    batch = next(iter(dataloader))\n",
    "\n",
    "    decoded, mu, logvar = vae(batch)\n",
    "\n",
    "    loss = VAEloss(decoded,batch,mu,logvar)\n",
    "    loss.backward()\n",
    "    optimizer.step()\n",
    "    optimizer.zero_grad()\n",
    "    print(\"loss: \", loss)"
   ]
  },
  {
   "cell_type": "code",
   "execution_count": null,
   "metadata": {},
   "outputs": [
    {
     "data": {
      "text/plain": [
       "VAE(\n",
       "  (encoder): Sequential(\n",
       "    (0): Conv1d(1, 4, kernel_size=(3,), stride=(1,))\n",
       "    (1): ReLU()\n",
       "    (2): Conv1d(4, 4, kernel_size=(3,), stride=(4,))\n",
       "    (3): ReLU()\n",
       "    (4): Conv1d(4, 4, kernel_size=(3,), stride=(4,), padding=(1,))\n",
       "    (5): ReLU()\n",
       "  )\n",
       "  (flatten): Flatten(start_dim=1, end_dim=-1)\n",
       "  (enc_mu): Linear(in_features=45000, out_features=1000, bias=True)\n",
       "  (enc_logvar): Linear(in_features=45000, out_features=1000, bias=True)\n",
       "  (decoder): Sequential(\n",
       "    (0): Linear(in_features=1000, out_features=45000, bias=True)\n",
       "    (1): Unflatten(dim=1, unflattened_size=(4, 11250))\n",
       "    (2): ConvTranspose1d(4, 4, kernel_size=(3,), stride=(4,))\n",
       "    (3): ReLU()\n",
       "    (4): ConvTranspose1d(4, 4, kernel_size=(3,), stride=(4,), output_padding=(3,))\n",
       "    (5): ReLU()\n",
       "    (6): ConvTranspose1d(4, 1, kernel_size=(3,), stride=(1,))\n",
       "  )\n",
       ")"
      ]
     },
     "execution_count": 4,
     "metadata": {},
     "output_type": "execute_result"
    }
   ],
   "source": [
    "vae.eval()"
   ]
  },
  {
   "cell_type": "code",
   "execution_count": null,
   "metadata": {},
   "outputs": [],
   "source": [
    "torch.save(vae.state_dict(), './models/model_001.pth')"
   ]
  },
  {
   "cell_type": "code",
   "execution_count": 5,
   "metadata": {},
   "outputs": [
    {
     "name": "stdout",
     "output_type": "stream",
     "text": [
      "torch.Size([1, 180000])\n"
     ]
    }
   ],
   "source": [
    "vae.eval()\n",
    "test_output = (next(iter(dataset)))\n",
    "print(test_output.shape)"
   ]
  },
  {
   "cell_type": "code",
   "execution_count": 15,
   "metadata": {},
   "outputs": [
    {
     "name": "stdout",
     "output_type": "stream",
     "text": [
      "torch.Size([1, 45000])\n",
      "torch.Size([1, 180000])\n"
     ]
    }
   ],
   "source": [
    "model = vae.eval().to('cpu')\n",
    "\n",
    "test_output = (next(iter(dataset)))\n",
    "test_output = test_output.unsqueeze(0).to('cpu')\n",
    "test_output = model(test_output)[0]\n",
    "test_output = test_output.squeeze(0)\n",
    "print(test_output.shape)\n",
    "test_output = Resample(resample_rate,48000)(test_output)\n",
    "torchaudio.save(\"./test_output.wav\",test_output,48000)\n"
   ]
  },
  {
   "cell_type": "code",
   "execution_count": null,
   "metadata": {},
   "outputs": [],
   "source": []
  },
  {
   "cell_type": "code",
   "execution_count": null,
   "metadata": {},
   "outputs": [],
   "source": []
  }
 ],
 "metadata": {
  "kernelspec": {
   "display_name": "base",
   "language": "python",
   "name": "python3"
  },
  "language_info": {
   "codemirror_mode": {
    "name": "ipython",
    "version": 3
   },
   "file_extension": ".py",
   "mimetype": "text/x-python",
   "name": "python",
   "nbconvert_exporter": "python",
   "pygments_lexer": "ipython3",
   "version": "3.11.4"
  }
 },
 "nbformat": 4,
 "nbformat_minor": 2
}
